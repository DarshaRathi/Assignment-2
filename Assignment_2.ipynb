{
 "cells": [
  {
   "cell_type": "code",
   "execution_count": 4,
   "id": "c5b8f844-5ebb-4618-9fd2-497075c4ca96",
   "metadata": {},
   "outputs": [
    {
     "data": {
      "text/plain": [
       "' here i caan type anythg and go on for lines and lines as a comment and can also use to convert in string,\\nthis as an example'"
      ]
     },
     "execution_count": 4,
     "metadata": {},
     "output_type": "execute_result"
    }
   ],
   "source": [
    "#Q1How do you comment code in Python? What are the different types of comments?\n",
    "SOlution =\"there are two ways in which we can comment\"\n",
    "one_way=\"Single-Line Comments,we can can create single-line comments using the # symbol\"\n",
    "#example\n",
    "z=63 #assigning value to z\n",
    "second_way=\"Multi-Line Comments,this are represented by thre ''',or,\"\"\"\n",
    "\"\"\" here i caan type anythg and go on for lines and lines as a comment and can also use to convert in string,\n",
    "this as an example\"\"\"\n"
   ]
  },
  {
   "cell_type": "code",
   "execution_count": 5,
   "id": "02aaacca-a369-4240-9614-c80c71cf7196",
   "metadata": {},
   "outputs": [
    {
     "data": {
      "text/plain": [
       "' 1.Variable names must start with a letter (a-z, A-Z) or an underscore (_).\\n2.The subsequent characters can be letters, numbers (0-9), or underscores.\\n3.Variable names are case-sensitive, which means \"myVariable\" and \"myvariable\" are treated as different variables.'"
      ]
     },
     "execution_count": 5,
     "metadata": {},
     "output_type": "execute_result"
    }
   ],
   "source": [
    "#Q2What are variables in Python? How do you declare and assign values to variables?\n",
    "#In Python, a variable is a symbolic name or identifier that represents a value stored in the computer's memory. Variables are used to store and manage data in a program. To declare and assign values to variables in Python, you can follow these basic rules\n",
    "#Variable Naming Rules\n",
    "\"\"\" 1.Variable names must start with a letter (a-z, A-Z) or an underscore (_).\n",
    "2.The subsequent characters can be letters, numbers (0-9), or underscores.\n",
    "3.Variable names are case-sensitive, which means \"myVariable\" and \"myvariable\" are treated as different variables.\"\"\"\n",
    "\n"
   ]
  },
  {
   "cell_type": "code",
   "execution_count": 6,
   "id": "9397e7ca-1bc6-402b-a1e5-65932c689d6c",
   "metadata": {},
   "outputs": [
    {
     "ename": "SyntaxError",
     "evalue": "incomplete input (3242760510.py, line 2)",
     "output_type": "error",
     "traceback": [
      "\u001b[0;36m  Cell \u001b[0;32mIn[6], line 2\u001b[0;36m\u001b[0m\n\u001b[0;31m    \"\"\" Data conversion in Python can happen in two ways: either ywe tell the compiler to convert a data type to some other type explicitly,\u001b[0m\n\u001b[0m    ^\u001b[0m\n\u001b[0;31mSyntaxError\u001b[0m\u001b[0;31m:\u001b[0m incomplete input\n"
     ]
    }
   ],
   "source": [
    "#Q3- How do you convert one data type to another in Python?\n",
    "\"\"\" Data conversion in Python can happen in two ways: either ywe tell the compiler to convert a data type to some other type explicitly, \n",
    "or the compiler understands this by itself and does it for us. \n",
    "In the former case, you're performing an explicit data type conversion, whereas, in the latter, we are doing an implicit data type conversion.\"\"\""
   ]
  },
  {
   "cell_type": "code",
   "execution_count": 7,
   "id": "b2b3be9c-7422-46e6-9aa3-2529e1e824ac",
   "metadata": {},
   "outputs": [
    {
     "data": {
      "text/plain": [
       "\" Create a Python Script\\nOpen the Command Line/Terminal\\nNavigate to the Script's Directory\\nExecute the Python Script\\nView the Output\""
      ]
     },
     "execution_count": 7,
     "metadata": {},
     "output_type": "execute_result"
    }
   ],
   "source": [
    "#Q4. How do you write and execute a Python script from the command line?\n",
    "\"\"\" Create a Python Script\n",
    "Open the Command Line/Terminal\n",
    "Navigate to the Script's Directory\n",
    "Execute the Python Script\n",
    "View the Output\"\"\""
   ]
  },
  {
   "cell_type": "code",
   "execution_count": 11,
   "id": "7a556d39-ce96-4075-a9ea-13d3db6ab6d7",
   "metadata": {},
   "outputs": [
    {
     "data": {
      "text/plain": [
       "[2, 3]"
      ]
     },
     "execution_count": 11,
     "metadata": {},
     "output_type": "execute_result"
    }
   ],
   "source": [
    "#Q5 Given a list my_list = [1, 2, 3, 4, 5], write the code to slice the list and obtain the sub-list [2, 3].\n",
    "\n",
    "my_list = [1, 2, 3, 4, 5]\n",
    "sub_list= my_list[1:3]\n",
    "sub_list\n"
   ]
  },
  {
   "cell_type": "code",
   "execution_count": 13,
   "id": "84ea646b-613b-4710-a5ec-019797457ddc",
   "metadata": {},
   "outputs": [],
   "source": [
    "#Q6. What is a complex number in mathematics, and how is it represented in Python?\n",
    "\"\"\" in maths compolex no. is a pair of real and imaginary no., in python aslo the concept is same only difference is notation of imaginary no.\n",
    "in maths notaion is given by i and in python notation is given by j. \n",
    "following example\"\"\"\n",
    "#for maths= 5+6i\n",
    "python_complex= 5+6j"
   ]
  },
  {
   "cell_type": "code",
   "execution_count": 14,
   "id": "f7f78e4f-7aec-4de3-b541-d4bb8118011d",
   "metadata": {},
   "outputs": [],
   "source": [
    "#Q7. What is the correct way to declare a variable named age and assign the value 25 to it?\n",
    "\"\"\" correct way to declare a varfiable is \n",
    "1.Variable names must start with a letter (a-z, A-Z) or an underscore (_).\n",
    "2.The subsequent characters can be letters, numbers (0-9), or underscores.\n",
    "3.Variable names are case-sensitive, which means \"myVariable\" and \"myvariable\" are treated as different variables.\"\"\"\n",
    "\n",
    "A=25\n"
   ]
  },
  {
   "cell_type": "code",
   "execution_count": 16,
   "id": "a5c90c85-435a-4283-b7cd-a6466da7c038",
   "metadata": {},
   "outputs": [
    {
     "data": {
      "text/plain": [
       "float"
      ]
     },
     "execution_count": 16,
     "metadata": {},
     "output_type": "execute_result"
    }
   ],
   "source": [
    "#Q8. Declare a variable named price and assign the value 9.99 to it. What data type does this variable belong to?\n",
    "named_price= 9.99\n",
    "type(named_price) #float"
   ]
  },
  {
   "cell_type": "code",
   "execution_count": 18,
   "id": "2476ac69-22f8-4d64-8621-72cb5587504a",
   "metadata": {},
   "outputs": [
    {
     "name": "stdout",
     "output_type": "stream",
     "text": [
      "Darshan Sanjay Rathi\n"
     ]
    }
   ],
   "source": [
    "#Q9. Create a variable named name and assign your full name to it as a string. How would you print the value of this variable?\n",
    "name= \"Darshan Sanjay Rathi\"\n",
    "print(name)"
   ]
  },
  {
   "cell_type": "code",
   "execution_count": 20,
   "id": "5121ddf9-fb7d-4079-aa5b-9ab8137f869f",
   "metadata": {},
   "outputs": [
    {
     "data": {
      "text/plain": [
       "'World'"
      ]
     },
     "execution_count": 20,
     "metadata": {},
     "output_type": "execute_result"
    }
   ],
   "source": [
    "#Q10. Given the string \"Hello, World!\", extract the substring \"World\".\n",
    "original_string = \"Hello, World!\"\n",
    "substring = original_string[7:12]\n",
    "substring"
   ]
  },
  {
   "cell_type": "code",
   "execution_count": null,
   "id": "5eeb21c7-8242-4fbc-98d6-7068d83b59f2",
   "metadata": {},
   "outputs": [],
   "source": [
    "#Q11. Create a variable named \"is_student\" and assign it a boolean value indicating whether you are currently a student or not.\n"
   ]
  }
 ],
 "metadata": {
  "kernelspec": {
   "display_name": "Python 3 (ipykernel)",
   "language": "python",
   "name": "python3"
  },
  "language_info": {
   "codemirror_mode": {
    "name": "ipython",
    "version": 3
   },
   "file_extension": ".py",
   "mimetype": "text/x-python",
   "name": "python",
   "nbconvert_exporter": "python",
   "pygments_lexer": "ipython3",
   "version": "3.10.8"
  }
 },
 "nbformat": 4,
 "nbformat_minor": 5
}
